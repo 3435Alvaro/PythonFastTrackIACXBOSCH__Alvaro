{
 "cells": [
  {
   "attachments": {},
   "cell_type": "markdown",
   "metadata": {},
   "source": [
    "# PeP 10 reglas mas importantes\n",
    "\n",
    "\n",
    "Breve introducción al PEP 8 y su importancia.\n",
    "\n",
    "## Reglas del PEP 8\n",
    "\n",
    "1. Sangría y espacios en blanco\n",
    "   - Explicación de la regla y ejemplo de código correcto e incorrecto.\n",
    "\n",
    "2. Longitud de línea\n",
    "   - Explicación de la regla y ejemplo de código correcto e incorrecto.\n",
    "\n",
    "3. Nombres de variables y funciones\n",
    "   - Explicación de la regla y ejemplo de código correcto e incorrecto.\n",
    "\n",
    "4. Nombres de constantes\n",
    "   - Explicación de la regla y ejemplo de código correcto e incorrecto.\n",
    "\n",
    "5. Comentarios\n",
    "   - Explicación de la regla y ejemplo de código correcto e incorrecto.\n",
    "\n",
    "6. Importaciones\n",
    "   - Explicación de la regla y ejemplo de código correcto e incorrecto.\n",
    "\n",
    "7. Convención de nombres\n",
    "   - Explicación de la regla y ejemplo de código correcto e incorrecto.\n",
    "\n",
    "8. Clases y métodos\n",
    "   - Explicación de la regla y ejemplo de código correcto e incorrecto.\n",
    "\n",
    "9. Uso de espacios alrededor de operadores\n",
    "   - Explicación de la regla y ejemplo de código correcto e incorrecto.\n",
    "\n",
    "10. Orden de importaciones\n",
    "    - Explicación de la regla y ejemplo de código correcto.\n"
   ]
  }
 ],
 "metadata": {
  "language_info": {
   "name": "python"
  },
  "orig_nbformat": 4
 },
 "nbformat": 4,
 "nbformat_minor": 2
}
